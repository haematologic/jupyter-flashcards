{
 "cells": [
  {
   "cell_type": "code",
   "execution_count": 1,
   "metadata": {},
   "outputs": [],
   "source": [
    "from jupyter_flashcards import Flashcards"
   ]
  },
  {
   "cell_type": "code",
   "execution_count": 2,
   "metadata": {},
   "outputs": [],
   "source": [
    "fc = Flashcards('user/patho')"
   ]
  },
  {
   "cell_type": "code",
   "execution_count": 3,
   "metadata": {},
   "outputs": [],
   "source": [
    "card = fc.quiz('retino')"
   ]
  },
  {
   "cell_type": "code",
   "execution_count": 4,
   "metadata": {},
   "outputs": [
    {
     "data": {
      "text/html": [
       "<p>retinoblastoma</p>"
      ],
      "text/plain": [
       "<jupyter_flashcards.card.CardQuiz at 0x102fdcef0>"
      ]
     },
     "execution_count": 4,
     "metadata": {},
     "output_type": "execute_result"
    }
   ],
   "source": [
    "card"
   ]
  },
  {
   "cell_type": "code",
   "execution_count": 5,
   "metadata": {},
   "outputs": [
    {
     "data": {
      "text/html": [
       "<p>Sheets, trabeculae and nests of small blue cells with scant cytoplasm, hyperchromatic nuclei and scanty stroma</p>\n",
       "<p>Flexner-Wintersteiner rosettes (cells line up around empty lumen delineated by a distinct eosinophilic circle composed of terminal bars analogous to outer limiting membrane of normal retina)</p>\n",
       "<p>Homer-Wright rosettes (nuclei are displaced away from lumen), fluerettes (tumor cells arranged side by side which show differentiation towards photoreceptors)</p>\n",
       "<p>Frequent Azzopardi phenomena (basophilic deposits around blood vessels, also seen in small cell carcinoma)</p><p><strong>Keywords:</strong> Wintersteiner rosettes, Wright rosettes, Flexner-Wintersteiner rosettes, Homer-Wright rosettes, Azzopardi phenomena</p><p><strong>Tags:</strong> eye</p>"
      ],
      "text/plain": [
       "<IPython.core.display.HTML object>"
      ]
     },
     "execution_count": 5,
     "metadata": {},
     "output_type": "execute_result"
    }
   ],
   "source": [
    "card.show()"
   ]
  },
  {
   "cell_type": "code",
   "execution_count": 6,
   "metadata": {},
   "outputs": [
    {
     "data": {
      "text/html": [
       "\n",
       "        <iframe\n",
       "            width=\"800\"\n",
       "            height=\"150\"\n",
       "            src=\"user/patho/patho/preview.handsontable.html\"\n",
       "            frameborder=\"0\"\n",
       "            allowfullscreen\n",
       "        ></iframe>\n",
       "        "
      ],
      "text/plain": [
       "<IPython.lib.display.IFrame at 0x102fdcf60>"
      ]
     },
     "execution_count": 6,
     "metadata": {},
     "output_type": "execute_result"
    }
   ],
   "source": [
    "fc.add(\n",
    "    Front=\"http://www.pathologyoutlines.com/images/eye/PL04C.jpg\",\n",
    "    Back=\"retinoblastoma\",\n",
    "    Tags=[\"eye\"]\n",
    ")"
   ]
  },
  {
   "cell_type": "code",
   "execution_count": 7,
   "metadata": {},
   "outputs": [],
   "source": [
    "card = fc.quiz('eye')"
   ]
  },
  {
   "cell_type": "code",
   "execution_count": 8,
   "metadata": {},
   "outputs": [
    {
     "data": {
      "text/html": [
       "<p><img src=\"user/patho/patho/1531892799654-PL04C.jpg\" /></p>"
      ],
      "text/plain": [
       "<jupyter_flashcards.card.CardQuiz at 0x1030517f0>"
      ]
     },
     "execution_count": 8,
     "metadata": {},
     "output_type": "execute_result"
    }
   ],
   "source": [
    "card"
   ]
  },
  {
   "cell_type": "code",
   "execution_count": 16,
   "metadata": {},
   "outputs": [
    {
     "data": {
      "text/html": [
       "<p>retinoblastoma</p><p><strong>Keywords:</strong> </p><p><strong>Tags:</strong> eye</p>"
      ],
      "text/plain": [
       "<IPython.core.display.HTML object>"
      ]
     },
     "execution_count": 16,
     "metadata": {},
     "output_type": "execute_result"
    }
   ],
   "source": [
    "card.show()"
   ]
  },
  {
   "cell_type": "code",
   "execution_count": null,
   "metadata": {},
   "outputs": [],
   "source": []
  }
 ],
 "metadata": {
  "kernelspec": {
   "display_name": "Python 3",
   "language": "python",
   "name": "python3"
  },
  "language_info": {
   "codemirror_mode": {
    "name": "ipython",
    "version": 3
   },
   "file_extension": ".py",
   "mimetype": "text/x-python",
   "name": "python",
   "nbconvert_exporter": "python",
   "pygments_lexer": "ipython3",
   "version": "3.7.0"
  }
 },
 "nbformat": 4,
 "nbformat_minor": 2
}
